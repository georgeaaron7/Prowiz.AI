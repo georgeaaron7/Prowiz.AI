{
 "cells": [
  {
   "cell_type": "markdown",
   "id": "21f775e4",
   "metadata": {},
   "source": [
    "# Term Frequency - Inverse Document Frequency (TF-IDF)\n",
    "\n",
    "It is a statistical measure used to evaluate how important a word is to a document in a collection or corpus. It is widely used in information retrieval and text mining."
   ]
  },
  {
   "cell_type": "markdown",
   "id": "19acf3ef",
   "metadata": {},
   "source": [
    "## Intuition\n",
    "\n",
    "- **Term Frequency (TF):** Measures how frequently a term appears in a document. However, common words like \"the\" or \"is\" may appear frequently but are not informative.\n",
    "- **Inverse Document Frequency (IDF):** Down-weights terms that appear in many documents, highlighting words that are more unique to specific documents.\n",
    "\n"
   ]
  },
  {
   "cell_type": "markdown",
   "id": "9f130d68",
   "metadata": {},
   "source": [
    "**Term Frequency (TF):**\n",
    "\n",
    "$$\n",
    "\\text{TF}(t, d) = \\frac{\\text{Occurrence of term } t \\text{ in document } d}{\\text{Total words in } d}\n",
    "$$\n",
    "\n",
    "**Inverse Document Frequency (IDF):**\n",
    "\n",
    "$$\n",
    "\\text{IDF}(t, D) = \\log \\left( \\frac{\\text{Number of documents in corpus}}{\\text{Number of documents where term } t \\text{ appears}} \\right)\n",
    "$$"
   ]
  },
  {
   "cell_type": "code",
   "execution_count": 9,
   "id": "22aa9b04",
   "metadata": {},
   "outputs": [],
   "source": [
    "import math\n",
    "\n",
    "sentences = [\n",
    "    \"dog bark\",\n",
    "    \"dog run\",\n",
    "    \"run fast dog\"\n",
    "]"
   ]
  },
  {
   "cell_type": "markdown",
   "id": "6fdb36da",
   "metadata": {},
   "source": [
    "## Tokenize sentences and adding to vocabulary"
   ]
  },
  {
   "cell_type": "code",
   "execution_count": 10,
   "id": "2e8c5cb4",
   "metadata": {},
   "outputs": [],
   "source": [
    "tokenized = [sentence.split() for sentence in sentences]\n",
    "\n",
    "vocab = set()\n",
    "for sent in tokenized:\n",
    "    for word in sent:\n",
    "        vocab.add(word)"
   ]
  },
  {
   "cell_type": "markdown",
   "id": "36b83e70",
   "metadata": {},
   "source": [
    "## Calculation of TF"
   ]
  },
  {
   "cell_type": "code",
   "execution_count": 11,
   "id": "8f243cd4",
   "metadata": {},
   "outputs": [],
   "source": [
    "# calculate term frequency\n",
    "tf_matrix = []\n",
    "for sent in tokenized:\n",
    "    tf_row = []\n",
    "    for word in vocab:\n",
    "        count = sent.count(word)\n",
    "        tf = count / len(sent)\n",
    "        tf_row.append(tf)\n",
    "    tf_matrix.append(tf_row)"
   ]
  },
  {
   "cell_type": "markdown",
   "id": "04f8357f",
   "metadata": {},
   "source": [
    "## Problem:\n",
    "\n",
    "Common words like \"the\", \"is\", etc., appear in every document, so they are not very informative. To address this, we use **IDF** to down-weight such common terms."
   ]
  },
  {
   "cell_type": "markdown",
   "id": "52760dc2",
   "metadata": {},
   "source": [
    "## Calculation of IDF\n",
    "\n",
    "For each word in the vocabulary, we calculate how many sentences contain it and then compute its IDF."
   ]
  },
  {
   "cell_type": "code",
   "execution_count": 12,
   "id": "46729a71",
   "metadata": {},
   "outputs": [],
   "source": [
    "# calculate idf for each word\n",
    "N = len(sentences)\n",
    "idf_vector = []\n",
    "for word in vocab:\n",
    "    containing = sum(1 for sent in tokenized if word in sent)\n",
    "    idf = math.log(N / containing)\n",
    "    idf_vector.append(idf)"
   ]
  },
  {
   "cell_type": "markdown",
   "id": "de65ca16",
   "metadata": {},
   "source": [
    "## What Does This Solve?\n",
    "\n",
    "If a word like \"the\" appears in **all** documents, then:\n",
    "\n",
    "$$\n",
    "\\text{IDF}(\"the\", D) = \\log\\left( \\frac{3}{3} \\right) = \\log(1) = 0\n",
    "$$\n",
    "\n",
    "So its weight becomes 0 — it won’t affect the representation.\n",
    "\n",
    "## Example\n",
    "\n",
    "**Sentences:**\n",
    "\n",
    "- $s_1 = \\text{\"dog bark\"}$\n",
    "- $s_2 = \\text{\"dog run\"}$\n",
    "- $s_3 = \\text{\"run fast dog\"}$\n",
    "\n",
    "**Vocabulary:**\n",
    "\n",
    "| Word  | Count |\n",
    "|-------|-------|\n",
    "| dog   | 3     |\n",
    "| run   | 2     |\n",
    "| bark  | 1     |\n",
    "| fast  | 1     |"
   ]
  },
  {
   "cell_type": "markdown",
   "id": "eed39be6",
   "metadata": {},
   "source": [
    "## Term Frequency (TF)\n",
    "\n",
    "| Word  | $s_1$           | $s_2$           | $s_3$           |\n",
    "|-------|-----------------|-----------------|-----------------|\n",
    "| dog   | $\\frac{1}{2}$  | $\\frac{1}{2}$   | $\\frac{1}{3}$   |\n",
    "| bark  | $\\frac{1}{2}$  | $0$             | $0$             |\n",
    "| run   | $0$             | $\\frac{1}{2}$   | $\\frac{1}{3}$   |\n",
    "| fast  | $0$             | $0$             | $\\frac{1}{3}$   |\n",
    "\n",
    "\n",
    "## Inverse Document Frequency (IDF)\n",
    "\n",
    "| Word  | IDF                                 |\n",
    "|-------|-------------------------------------|\n",
    "| dog   | $\\log\\left(\\frac{3}{3}\\right) = 0$ |\n",
    "| run   | $\\log\\left(\\frac{3}{2}\\right)$     |\n",
    "| bark  | $\\log\\left(\\frac{3}{1}\\right)$     |\n",
    "| fast  | $\\log\\left(\\frac{3}{1}\\right)$     |"
   ]
  },
  {
   "cell_type": "markdown",
   "id": "6ed2a190",
   "metadata": {},
   "source": [
    "## Matrix multiplication gives us the following vectors\n",
    "\n",
    "- $s_1 = [0, 0.549, 0, 0]$\n",
    "- $s_2 = [0, 0, 0.204, 0]$\n",
    "- $s_3 = [0, 0, 0, 0.204]$"
   ]
  },
  {
   "cell_type": "markdown",
   "id": "e928e0eb",
   "metadata": {},
   "source": [
    "## Calculation of TF-IDF vectors"
   ]
  },
  {
   "cell_type": "code",
   "execution_count": 13,
   "id": "4f689ddb",
   "metadata": {},
   "outputs": [],
   "source": [
    "# tf x idf\n",
    "tfidf_matrix = []\n",
    "for tf_row in tf_matrix:\n",
    "    tfidf_row = []\n",
    "    for i in range(len(vocab)):\n",
    "        tfidf = tf_row[i] * idf_vector[i]\n",
    "        tfidf_row.append(tfidf)\n",
    "    tfidf_matrix.append(tfidf_row)"
   ]
  },
  {
   "cell_type": "code",
   "execution_count": 14,
   "id": "70e2865a",
   "metadata": {},
   "outputs": [
    {
     "name": "stdout",
     "output_type": "stream",
     "text": [
      "\n",
      "TF-IDF Vectors:\n",
      "Sentence 1: [0.0, 0.0, 0.5493061443340549, 0.0]\n",
      "Sentence 2: [0.0, 0.2027325540540822, 0.0, 0.0]\n",
      "Sentence 3: [0.0, 0.13515503603605478, 0.0, 0.3662040962227032]\n"
     ]
    }
   ],
   "source": [
    "# printing tf_idf_vectors\n",
    "print(\"\\nTF-IDF Vectors:\")\n",
    "for i, vec in enumerate(tfidf_matrix):\n",
    "    print(f\"Sentence {i+1}:\", vec)"
   ]
  }
 ],
 "metadata": {
  "kernelspec": {
   "display_name": "venv",
   "language": "python",
   "name": "python3"
  },
  "language_info": {
   "codemirror_mode": {
    "name": "ipython",
    "version": 3
   },
   "file_extension": ".py",
   "mimetype": "text/x-python",
   "name": "python",
   "nbconvert_exporter": "python",
   "pygments_lexer": "ipython3",
   "version": "3.13.5"
  }
 },
 "nbformat": 4,
 "nbformat_minor": 5
}
